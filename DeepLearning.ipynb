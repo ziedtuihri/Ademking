{
  "nbformat": 4,
  "nbformat_minor": 0,
  "metadata": {
    "colab": {
      "provenance": [],
      "authorship_tag": "ABX9TyMeRejhEHbPQuVXvr0j9jan",
      "include_colab_link": true
    },
    "kernelspec": {
      "name": "python3",
      "display_name": "Python 3"
    },
    "language_info": {
      "name": "python"
    }
  },
  "cells": [
    {
      "cell_type": "markdown",
      "metadata": {
        "id": "view-in-github",
        "colab_type": "text"
      },
      "source": [
        "<a href=\"https://colab.research.google.com/github/ziedtuihri/Ademking/blob/master/DeepLearning.ipynb\" target=\"_parent\"><img src=\"https://colab.research.google.com/assets/colab-badge.svg\" alt=\"Open In Colab\"/></a>"
      ]
    },
    {
      "cell_type": "code",
      "execution_count": 1,
      "metadata": {
        "id": "i9zsGRuZMOjE"
      },
      "outputs": [],
      "source": [
        "\n",
        "## Suppress warnings for a cleaner output\n",
        "import warnings\n",
        "warnings.filterwarnings('ignore')\n",
        "# Core libraries for data processing and mathematical operations\n",
        "import matplotlib.pyplot as plt\n",
        "import numpy as np\n",
        "import tensorflow_datasets as tfds\n",
        "# Deep learning libraries\n",
        "import tensorflow as tf\n",
        "import keras\n",
        "from keras import layers\n",
        "from keras.applications import VGG16\n",
        "from keras.models import Sequential, Model\n",
        "from keras.layers import Dense, Flatten, Dropout, Activation, Conv2D, MaxPooling2D,BatchNormalization  # Layers for model customization\n",
        "from tensorflow.keras.optimizers import Adam\n"
      ]
    },
    {
      "cell_type": "code",
      "source": [
        "import kagglehub\n",
        "\n",
        "# Download latest version\n",
        "path = kagglehub.dataset_download(\"steubk/wikiart\")\n",
        "\n",
        "print(\"Path to dataset files:\", path)"
      ],
      "metadata": {
        "id": "ngvdqkZbNGgu",
        "colab": {
          "base_uri": "https://localhost:8080/"
        },
        "outputId": "c8969d39-c481-49b2-b319-6893cc122d3b"
      },
      "execution_count": 2,
      "outputs": [
        {
          "output_type": "stream",
          "name": "stdout",
          "text": [
            "Using Colab cache for faster access to the 'wikiart' dataset.\n",
            "Path to dataset files: /kaggle/input/wikiart\n"
          ]
        }
      ]
    },
    {
      "cell_type": "code",
      "source": [
        "# Install dependencies as needed:\n",
        "# pip install kagglehub[pandas-datasets]\n",
        "from kagglehub import KaggleDatasetAdapter\n",
        "\n",
        "# Set the path to the file you'd like to load\n",
        "file_path = \"./classes.csv\"\n",
        "\n",
        "# Load the latest version\n",
        "df = kagglehub.load_dataset(\n",
        "  KaggleDatasetAdapter.PANDAS,\n",
        "  \"steubk/wikiart\",\n",
        "  file_path,\n",
        "  # Provide any additional arguments like\n",
        "  # sql_query or pandas_kwargs. See the\n",
        "  # documenation for more information:\n",
        "  # https://github.com/Kaggle/kagglehub/blob/main/README.md#kaggledatasetadapterpandas\n",
        ")\n",
        "\n",
        "print(\"First 5 records:\", df.head())"
      ],
      "metadata": {
        "colab": {
          "base_uri": "https://localhost:8080/"
        },
        "id": "t3gb3agtFILI",
        "outputId": "e0a75f21-09a4-4bd8-d5ae-f44e53b0d19c"
      },
      "execution_count": 3,
      "outputs": [
        {
          "output_type": "stream",
          "name": "stdout",
          "text": [
            "Using Colab cache for faster access to the 'wikiart' dataset.\n",
            "First 5 records:                                             filename         artist  \\\n",
            "0  Abstract_Expressionism/aaron-siskind_acolman-1...  aaron siskind   \n",
            "1  Abstract_Expressionism/aaron-siskind_chicago-6...  aaron siskind   \n",
            "2  Abstract_Expressionism/aaron-siskind_glouceste...  aaron siskind   \n",
            "3  Abstract_Expressionism/aaron-siskind_jerome-ar...  aaron siskind   \n",
            "4  Abstract_Expressionism/aaron-siskind_kentucky-...  aaron siskind   \n",
            "\n",
            "                        genre          description             phash  width  \\\n",
            "0  ['Abstract Expressionism']       acolman-1-1955  bebbeb018a7d80a8   1922   \n",
            "1  ['Abstract Expressionism']       chicago-6-1961  d7d0781be51fc00e   1382   \n",
            "2  ['Abstract Expressionism']  gloucester-16a-1944  9f846e5a6c639325   1382   \n",
            "3  ['Abstract Expressionism']  jerome-arizona-1949  a5d691f85ac5e4d0   1382   \n",
            "4  ['Abstract Expressionism']      kentucky-4-1951  880df359e6b11db1   1382   \n",
            "\n",
            "   height  genre_count subset  \n",
            "0    1382            1  train  \n",
            "1    1746            1  train  \n",
            "2    1857            1  train  \n",
            "3    1849            1  train  \n",
            "4    1625            1  train  \n"
          ]
        }
      ]
    }
  ]
}